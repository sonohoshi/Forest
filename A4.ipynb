{
 "cells": [
  {
   "cell_type": "markdown",
   "metadata": {},
   "source": [
    "### Lab 4 Assigned, Sunday October 18th; Due Sunday October 25th, 11:59pm\n",
    "### Maximum grade: 25 / 22\n",
    "\n",
    "The purpose of this lab is to:\n",
    "* Get familiar with the Set Data type\n",
    "* Function Definition\n",
    "* Learn to write recursive functions\n",
    "\n",
    "\n",
    "You are supposed to download this notebook, embed your answers to the questions in the cells below, and submit it through JupyterHub.  "
   ]
  },
  {
   "cell_type": "markdown",
   "metadata": {},
   "source": [
    "### Question 1a -  Increasing Numbers in List - First Occurence(3 points)\n",
    "\n",
    "Write a function `numIncreasing1(L)` that takes as input a list of numbers and returns a list of the __first__ sequence within that is increasing order, and has a length of at least 2.  If no increasing sequential numbers are found, (ie. the input list is in descending order) then naturally a list of just the first value is returned. \n",
    "\n",
    "Increasing sequence means for a number to be valid it has to be greater than the previous.\n",
    "\n",
    " + `[5, 2, 1, 3, 4]` returns `[1, 3, 4]`, because only the last 3 are in increasing order \n",
    " + `[-1, 1, 4, 2, 6]` returns `[-1, 1, 4]`\n",
    " + `[5, 1, 8, 9, 10, 100]` returns `[1, 8, 9, 10, 100]` \n",
    " + `[4, 1, 2, 3, 4, 2, 4, 6, 8]` returns `[1, 2, 3, 4]`\n",
    " \n",
    "Hint: _the `break` keyword may prove useful to exit a loop_"
   ]
  },
  {
   "cell_type": "code",
   "execution_count": null,
   "metadata": {
    "deletable": false,
    "nbgrader": {
     "cell_type": "code",
     "checksum": "29c4e144e18d11822cc1fadab0aff1c5",
     "grade": false,
     "grade_id": "cell-444a4ab27463ffd7",
     "locked": false,
     "schema_version": 3,
     "solution": true,
     "task": false
    }
   },
   "outputs": [],
   "source": [
    "def numIncreasing1(L):\n",
    "    # Your code here!\n",
    "    return \n",
    "    \n",
    "# YOUR CODE HERE\n",
    "raise NotImplementedError()"
   ]
  },
  {
   "cell_type": "code",
   "execution_count": null,
   "metadata": {},
   "outputs": [],
   "source": [
    "print(\"Are my sample test cases correct?\")\n",
    "print(numIncreasing1([5, 2, 1, 3, 4]) == [1,3,4])\n",
    "print(numIncreasing1([2, 1, 4, 5, 6]) == [1,4,5,6])\n",
    "print(numIncreasing1([1,2,3,4,4,3,4,5,6,7,7])  == [1,2,3,4])"
   ]
  },
  {
   "cell_type": "code",
   "execution_count": null,
   "metadata": {
    "deletable": false,
    "editable": false,
    "nbgrader": {
     "cell_type": "code",
     "checksum": "e4daaef19c08e3eb6e1fe1ec2ec9f517",
     "grade": true,
     "grade_id": "cell-f3289e62bd137bda",
     "locked": true,
     "points": 2,
     "schema_version": 3,
     "solution": false,
     "task": false
    }
   },
   "outputs": [],
   "source": []
  },
  {
   "cell_type": "code",
   "execution_count": null,
   "metadata": {
    "deletable": false,
    "editable": false,
    "nbgrader": {
     "cell_type": "code",
     "checksum": "5067479bc37289689c1c25fb5027eb00",
     "grade": true,
     "grade_id": "cell-65cdc4db9d70a421",
     "locked": true,
     "points": 1,
     "schema_version": 3,
     "solution": false,
     "task": false
    }
   },
   "outputs": [],
   "source": []
  },
  {
   "cell_type": "markdown",
   "metadata": {},
   "source": [
    "### Question 1b: Increasing Numbers in List - Longest Streak (3 points)\n",
    "\n",
    "Now write a function `numIncreasing2(L)` which applies similar constraints from Question 1a except returns the __longest__ running sequence of increasing numbers `L`. \n"
   ]
  },
  {
   "cell_type": "code",
   "execution_count": null,
   "metadata": {
    "deletable": false,
    "nbgrader": {
     "cell_type": "code",
     "checksum": "1fa5e6b6e5da8e8a0c4e35759091e7fc",
     "grade": false,
     "grade_id": "cell-7705867d2bca8d4f",
     "locked": false,
     "schema_version": 3,
     "solution": true
    }
   },
   "outputs": [],
   "source": [
    "def numIncreasing2(s):\n",
    "    # your code here! \n",
    "    return x\n",
    "    \n",
    "# YOUR CODE HERE\n",
    "raise NotImplementedError()"
   ]
  },
  {
   "cell_type": "code",
   "execution_count": null,
   "metadata": {},
   "outputs": [],
   "source": [
    "print(\"Are my sample test cases correct?\")\n",
    "print(\"#1\", numIncreasing2([5,4,3,2,1]) == [5])\n",
    "print(\"#2\", numIncreasing2([1,2,3,4,5]) == [1,2,3,4,5])\n",
    "print(\"#3\", numIncreasing2([1,2,3,4,4,3,4,5,6,7,7]) == [ 3, 4, 5, 6, 7])"
   ]
  },
  {
   "cell_type": "code",
   "execution_count": null,
   "metadata": {
    "deletable": false,
    "editable": false,
    "nbgrader": {
     "cell_type": "code",
     "checksum": "5baf069475f1bcf23a98e57ef443748e",
     "grade": true,
     "grade_id": "cell-27eedc6832cd070c",
     "locked": true,
     "points": 2,
     "schema_version": 3,
     "solution": false,
     "task": false
    }
   },
   "outputs": [],
   "source": []
  },
  {
   "cell_type": "code",
   "execution_count": null,
   "metadata": {
    "deletable": false,
    "editable": false,
    "nbgrader": {
     "cell_type": "code",
     "checksum": "f2c23409a867e1c42fa32404ee75aa8a",
     "grade": true,
     "grade_id": "cell-9752c47972a6e13e",
     "locked": true,
     "points": 1,
     "schema_version": 3,
     "solution": false,
     "task": false
    }
   },
   "outputs": [],
   "source": []
  },
  {
   "cell_type": "markdown",
   "metadata": {},
   "source": [
    "### Question 1c: Increasing Numbers in List - Default Arguments (2 points)\n",
    "\n",
    "Now that you have defined the behavior for both `numIncreasing1` and `numIncreasing2`, create a \"wrapper function\" `numIncreasing` which takes a list `L` of numbers and a boolean `longest` which by default is equal to `False` and will trigger whether `numIncreasing1` or `numIncreasing2` is executed."
   ]
  },
  {
   "cell_type": "code",
   "execution_count": null,
   "metadata": {
    "deletable": false,
    "nbgrader": {
     "cell_type": "code",
     "checksum": "4a286594462d488a7ae7efdf40538ef7",
     "grade": false,
     "grade_id": "cell-4f1662bda2bb64cb",
     "locked": false,
     "schema_version": 3,
     "solution": true
    }
   },
   "outputs": [],
   "source": [
    "# YOUR CODE HERE\n",
    "raise NotImplementedError()"
   ]
  },
  {
   "cell_type": "code",
   "execution_count": null,
   "metadata": {
    "deletable": false,
    "editable": false,
    "nbgrader": {
     "cell_type": "code",
     "checksum": "2d8e8c062f0781adab7359132f3606ff",
     "grade": true,
     "grade_id": "cell-860f3a5db5d3d6dd",
     "locked": true,
     "points": 1,
     "schema_version": 3,
     "solution": false,
     "task": false
    }
   },
   "outputs": [],
   "source": []
  },
  {
   "cell_type": "code",
   "execution_count": null,
   "metadata": {
    "deletable": false,
    "editable": false,
    "nbgrader": {
     "cell_type": "code",
     "checksum": "e1fc16f9765ccead4184a8fa54e26d02",
     "grade": true,
     "grade_id": "cell-3a32de1026482acd",
     "locked": true,
     "points": 1,
     "schema_version": 3,
     "solution": false
    }
   },
   "outputs": [],
   "source": []
  },
  {
   "cell_type": "markdown",
   "metadata": {},
   "source": [
    "###  Question 2 : Playing with Sets (2 points)\n",
    "\n",
    "Write a function `uniqueSet(t)` which when given a string (with no punctuation) will return a __set__ containing the __unique__ words in the string. Capitalizations should be ignored. For example: $$Hello\\equiv hello$$"
   ]
  },
  {
   "cell_type": "code",
   "execution_count": null,
   "metadata": {
    "deletable": false,
    "nbgrader": {
     "cell_type": "code",
     "checksum": "256541d3be2a01714444026964530b37",
     "grade": false,
     "grade_id": "cell-7fe8c0405b18f890",
     "locked": false,
     "schema_version": 3,
     "solution": true,
     "task": false
    }
   },
   "outputs": [],
   "source": [
    "#Your Code Here\n",
    "\n",
    "\n",
    "# YOUR CODE HERE\n",
    "raise NotImplementedError()\n",
    "    \n"
   ]
  },
  {
   "cell_type": "code",
   "execution_count": null,
   "metadata": {},
   "outputs": [],
   "source": [
    "print(\"Are my sample test cases correct?\")\n",
    "print(\"#1\", len(uniqueSet(\"Born too late to have invented the internet\")) == 8)\n",
    "test2 = uniqueSet(\"Born too early to have entered the\")\n",
    "test2.add(\"matrix\")\n",
    "print(\"#2\", len(test2) == 8)\n",
    "test3 = uniqueSet(\"Born right on time\")\n",
    "test3.update([\"to\", \"browse\", \"Dank\", \"Memes\"])\n",
    "print(\"#3\", len(test3) == 8)"
   ]
  },
  {
   "cell_type": "code",
   "execution_count": null,
   "metadata": {
    "deletable": false,
    "editable": false,
    "nbgrader": {
     "cell_type": "code",
     "checksum": "ab7ed39e8fb4221c67b186a2482d1cd8",
     "grade": true,
     "grade_id": "cell-0c9024dda3538da3",
     "locked": true,
     "points": 1,
     "schema_version": 3,
     "solution": false,
     "task": false
    }
   },
   "outputs": [],
   "source": []
  },
  {
   "cell_type": "code",
   "execution_count": null,
   "metadata": {
    "deletable": false,
    "editable": false,
    "nbgrader": {
     "cell_type": "code",
     "checksum": "bc1a94057e40b721615c13294b32459b",
     "grade": true,
     "grade_id": "cell-0aa6c8c1f907d8f5",
     "locked": true,
     "points": 1,
     "schema_version": 3,
     "solution": false,
     "task": false
    }
   },
   "outputs": [],
   "source": []
  },
  {
   "cell_type": "markdown",
   "metadata": {},
   "source": [
    "###  Question 3: Partition the Values (3 points)\n",
    "\n",
    "Given two lists  of integers `listA` and `listB`, write a function `partitionLists` that takes two list arguments and one optional boolean parameter `largerFirst` which defaults to `False`. \n",
    "\n",
    "Your function should return a tuple containing two sorted lists, where the first list is the same length as list A, and the second is the length of list B.  All the elements in list A must be __less than or equal__ to those in list B, and the lists should be by default __ascending__ order.  \n",
    "\n",
    "If `largerFirst` is `True`, then the elements in list A must be __greater than or equal to__ those in list B, and the lists should be in __descending__ order."
   ]
  },
  {
   "cell_type": "code",
   "execution_count": null,
   "metadata": {
    "deletable": false,
    "nbgrader": {
     "cell_type": "code",
     "checksum": "2fae7e8ddac0b53507e47efcaeeb045a",
     "grade": false,
     "grade_id": "cell-150c7a63ffd4c1db",
     "locked": false,
     "schema_version": 3,
     "solution": true,
     "task": false
    }
   },
   "outputs": [],
   "source": [
    "#Your code here\n",
    "    \n",
    "    \n",
    "# YOUR CODE HERE\n",
    "raise NotImplementedError()\n"
   ]
  },
  {
   "cell_type": "code",
   "execution_count": null,
   "metadata": {},
   "outputs": [],
   "source": [
    "print(\"Are my sample test cases correct?\")\n",
    "print(\"#1\", partitionLists([8,2,5,10],[4,5,6,3,7,5,3]) ==([2, 3, 3, 4], [5, 5, 5, 6, 7, 8, 10]))\n",
    "print(\"#2\", partitionLists([1,4,56,723,5,7,34,1],[4,5,543,6,3,45,7,5,432,3,65]) ==([1, 1, 3, 3, 4, 4, 5, 5], [5, 6, 7, 7, 34, 45, 56, 65, 432, 543, 723]))\n",
    "print(\"#3\", partitionLists([1,4,56,723,5,7,34,1],[4,5,543,6,3,45,7,5,432,3,65], True) == ([723, 543, 432, 65, 56, 45, 34, 7], [7, 6, 5, 5, 5, 4, 4, 3, 3, 1, 1]))\n"
   ]
  },
  {
   "cell_type": "code",
   "execution_count": null,
   "metadata": {
    "deletable": false,
    "editable": false,
    "nbgrader": {
     "cell_type": "code",
     "checksum": "5656e6e79fb497dac76546fb72e5380a",
     "grade": true,
     "grade_id": "cell-4c236c2200b391d8",
     "locked": true,
     "points": 2,
     "schema_version": 3,
     "solution": false,
     "task": false
    }
   },
   "outputs": [],
   "source": []
  },
  {
   "cell_type": "code",
   "execution_count": null,
   "metadata": {
    "deletable": false,
    "editable": false,
    "nbgrader": {
     "cell_type": "code",
     "checksum": "a26e94041a3c0801af77e938d7e67628",
     "grade": true,
     "grade_id": "cell-d1242aa57f1e409f",
     "locked": true,
     "points": 1,
     "schema_version": 3,
     "solution": false,
     "task": false
    }
   },
   "outputs": [],
   "source": []
  },
  {
   "cell_type": "markdown",
   "metadata": {},
   "source": [
    "### Question 4: Recursive Combinations (3 points)\n",
    "\n",
    "Given a set of `n` items, we can choose `k` of them in $_nC_k$ ways. That is, if we have `n=3` items (for instance, an apple, an orange, and a pear) and we want to select `k=2` of them, there are $_3C_2 = 3$  ways to do this (an apple and an orange, an orange and a pear, or an apple and a pear).\n",
    "\n",
    "We can compute $_nC_k$ recursively:\n",
    "\n",
    "$$ _nC_k = \\begin{cases} 1, & \\mbox{if } k = 0, \\\\ 0, & \\mbox{if } n < k, \\\\ _{n-1}C_{k-1} + _{n-1}C_{k}, & \\mbox{otherwise}. \\end{cases} $$\n",
    "\n",
    "Write a function choose(n,k) that recursively computes the number of ways you can choose `k` out of `n` items."
   ]
  },
  {
   "cell_type": "code",
   "execution_count": null,
   "metadata": {
    "deletable": false,
    "nbgrader": {
     "cell_type": "code",
     "checksum": "e95558a85d17651b20ea374e35e9611a",
     "grade": false,
     "grade_id": "cell-97ff437c45c12ddc",
     "locked": false,
     "schema_version": 3,
     "solution": true,
     "task": false
    }
   },
   "outputs": [],
   "source": [
    "# your code here\n",
    "# YOUR CODE HERE\n",
    "raise NotImplementedError()"
   ]
  },
  {
   "cell_type": "code",
   "execution_count": null,
   "metadata": {},
   "outputs": [],
   "source": [
    "print(choose(3, 2) == 3)\n",
    "print(choose(5, 3) == 10)\n",
    "print(choose(20, 10) == 184756)"
   ]
  },
  {
   "cell_type": "code",
   "execution_count": null,
   "metadata": {
    "deletable": false,
    "editable": false,
    "nbgrader": {
     "cell_type": "code",
     "checksum": "ed572b915fe2974680b1d4e71a5bf1c5",
     "grade": true,
     "grade_id": "cell-e166d922f83ef13c",
     "locked": true,
     "points": 1,
     "schema_version": 3,
     "solution": false,
     "task": false
    }
   },
   "outputs": [],
   "source": []
  },
  {
   "cell_type": "code",
   "execution_count": null,
   "metadata": {
    "deletable": false,
    "editable": false,
    "nbgrader": {
     "cell_type": "code",
     "checksum": "20f74f5223b21778159e4127b993d334",
     "grade": true,
     "grade_id": "cell-967520d88f1ddee1",
     "locked": true,
     "points": 2,
     "schema_version": 3,
     "solution": false,
     "task": false
    }
   },
   "outputs": [],
   "source": []
  },
  {
   "cell_type": "markdown",
   "metadata": {},
   "source": [
    "### Question 5a: Verifying Palindromes Recursively (3 points)\n",
    "\n",
    "A word is a palindrome if it reads the same forwards as it does backwards. For instance, `racecar` and `kayak` are both palindromes, whereas `computer` is not.\n",
    "\n",
    "Write a function that determines whether or not a given string is a palindrome. For this question, you must write your own function and test cases. Your function should be called `is_palindrome` and accept a single string as input, and return the boolean value `True` or `False` as output. Your function does not need to check anything with the input, you can assume that this function will only be passed entirely lowercase strings.\n",
    "\n",
    "Use the following recursive algorithm to check if a string is a palindrome: If the string is 0 or 1 items long, it is definitely a palindrome (by definition). If the string is 2 or more characters long, remove the first and last characters, check if they are equal. If they aren't, the string is not a palindrome, otherwise, check if the remainder of the string is a palindrome."
   ]
  },
  {
   "cell_type": "code",
   "execution_count": null,
   "metadata": {
    "deletable": false,
    "nbgrader": {
     "cell_type": "code",
     "checksum": "e3396950ccbf1bcc58635896cc79b468",
     "grade": false,
     "grade_id": "cell-7fbe4917a4099385",
     "locked": false,
     "schema_version": 3,
     "solution": true,
     "task": false
    }
   },
   "outputs": [],
   "source": [
    "# Write your answer in this cell\n",
    "def is_palindrome(s):\n",
    "    return\n",
    "    \n",
    "# YOUR CODE HERE\n",
    "raise NotImplementedError()"
   ]
  },
  {
   "cell_type": "code",
   "execution_count": null,
   "metadata": {},
   "outputs": [],
   "source": [
    "print(is_palindrome(\"featherbed\") == False)\n",
    "print(is_palindrome(\"boltonotlob\") == True)\n",
    "print(is_palindrome(\"racecar\") == True)"
   ]
  },
  {
   "cell_type": "code",
   "execution_count": null,
   "metadata": {
    "deletable": false,
    "editable": false,
    "nbgrader": {
     "cell_type": "code",
     "checksum": "2ca4b992ac5552555447567037932653",
     "grade": true,
     "grade_id": "cell-a5becab389cd268f",
     "locked": true,
     "points": 2,
     "schema_version": 3,
     "solution": false,
     "task": false
    }
   },
   "outputs": [],
   "source": []
  },
  {
   "cell_type": "code",
   "execution_count": null,
   "metadata": {
    "deletable": false,
    "editable": false,
    "nbgrader": {
     "cell_type": "code",
     "checksum": "4c4736bbd234a05c3c9ac34b44576308",
     "grade": true,
     "grade_id": "cell-a8b37e88effcb7df",
     "locked": true,
     "points": 1,
     "schema_version": 3,
     "solution": false,
     "task": false
    }
   },
   "outputs": [],
   "source": []
  },
  {
   "cell_type": "markdown",
   "metadata": {},
   "source": [
    "### Question 5b: Improving our Palindrome Function (1 point)\n",
    "\n",
    "Let's improve the palindrome function so that it works with a sentence that has punctuation in it.\n",
    "First, write a function **only_letters(s)** that removes all punctuation (including spaces) from a given string and converts it to lowercase.\n",
    "\n",
    "For this question you may assume the string contains only letters, punctuation, and spaces (no numbers).\n"
   ]
  },
  {
   "cell_type": "code",
   "execution_count": null,
   "metadata": {
    "deletable": false,
    "nbgrader": {
     "cell_type": "code",
     "checksum": "9c57781ae8d466ed2f267039e603a8fe",
     "grade": false,
     "grade_id": "cell-a1b9f5ebbcf0d70d",
     "locked": false,
     "schema_version": 3,
     "solution": true,
     "task": false
    }
   },
   "outputs": [],
   "source": [
    "# Write your answer in this cell\n",
    "from string import punctuation\n",
    "\n",
    "def only_letters(s):\n",
    "    \n",
    "    return s\n",
    "\n",
    "# YOUR CODE HERE\n",
    "raise NotImplementedError()"
   ]
  },
  {
   "cell_type": "code",
   "execution_count": null,
   "metadata": {},
   "outputs": [],
   "source": [
    "print(only_letters(\",.12 34A\") == \"a\")"
   ]
  },
  {
   "cell_type": "code",
   "execution_count": null,
   "metadata": {
    "deletable": false,
    "editable": false,
    "nbgrader": {
     "cell_type": "code",
     "checksum": "d64fd1c66d9246b8077f2a3510ca21a7",
     "grade": true,
     "grade_id": "cell-a1caa4022bc7d9ca",
     "locked": true,
     "points": 1,
     "schema_version": 3,
     "solution": false,
     "task": false
    }
   },
   "outputs": [],
   "source": [
    "assert only_letters(\"h1A 932 409 l,./.2139LO\") == \"hallo\""
   ]
  },
  {
   "cell_type": "markdown",
   "metadata": {},
   "source": [
    "### Question 5c: Combining the Two (2 points)\n",
    "\n",
    "Now, using the only_letters function, write a function **is_palindrome_plus(s)** that determines if a string is a palindrome or not, ignoring punctuation or letter case."
   ]
  },
  {
   "cell_type": "code",
   "execution_count": null,
   "metadata": {},
   "outputs": [],
   "source": []
  },
  {
   "cell_type": "code",
   "execution_count": null,
   "metadata": {},
   "outputs": [],
   "source": []
  },
  {
   "cell_type": "code",
   "execution_count": null,
   "metadata": {
    "deletable": false,
    "nbgrader": {
     "cell_type": "code",
     "checksum": "54de741f92c6fbfaab4737d5a859a965",
     "grade": false,
     "grade_id": "cell-f65d34128c43a028",
     "locked": false,
     "schema_version": 3,
     "solution": true,
     "task": false
    }
   },
   "outputs": [],
   "source": [
    "# Write your answer in this cell\n",
    "def is_palindrome_plus(s): \n",
    "    return\n",
    "# YOUR CODE HERE\n",
    "raise NotImplementedError()"
   ]
  },
  {
   "cell_type": "code",
   "execution_count": null,
   "metadata": {},
   "outputs": [],
   "source": [
    "print(is_palindrome_plus(\"Do geese see God?\") == True)\n",
    "print(is_palindrome(only_letters('go hang a salami, i\\'m a lasagna hog!')) == True)"
   ]
  },
  {
   "cell_type": "code",
   "execution_count": null,
   "metadata": {
    "deletable": false,
    "editable": false,
    "nbgrader": {
     "cell_type": "code",
     "checksum": "cda05e9aa4f9cc5c67f7387c4f418842",
     "grade": true,
     "grade_id": "cell-587883d1c909c10b",
     "locked": true,
     "points": 1,
     "schema_version": 3,
     "solution": false,
     "task": false
    }
   },
   "outputs": [],
   "source": []
  },
  {
   "cell_type": "code",
   "execution_count": null,
   "metadata": {
    "deletable": false,
    "editable": false,
    "nbgrader": {
     "cell_type": "code",
     "checksum": "e5be9fd5d5771213df689c40639f1e75",
     "grade": true,
     "grade_id": "cell-f3ee0ab48ffadaf8",
     "locked": true,
     "points": 1,
     "schema_version": 3,
     "solution": false,
     "task": false
    }
   },
   "outputs": [],
   "source": []
  },
  {
   "cell_type": "markdown",
   "metadata": {},
   "source": [
    "###  Bonus: Recursive Encryption (3 points)\n",
    "\n",
    "Privacy has been a major talking point amongst many tech giants as of the past 2 years. Let's be creative and find a way to encrypt our messages to send to one another!\n",
    "\n",
    "Define a function `encrypt` which takes 3 arguments:\n",
    "* `msg` -  a non-empty string message\n",
    "* `shift` - a non-negative integer\n",
    "* `func` - a lambda function that takes one integer argument and returns an integer. For the math lovers (which means all of you) the type definition looks like this: $$Int \\rightarrow Int$$\n",
    "\n",
    "The secret sauce to this encryption method is that it will shift every character by some integer amount `shift`. For example 'h' shifted 5 characters is 'm'. When `shift` is positive value, the shifted char will move in the (right) direction based on nominal value. (Consult Ascii chart for more info: http://www.asciitable.com/). \n",
    "\n",
    "Therefore, we will go through every character `c` in the string and modify each by increasing the ordinal/nominal value by `shift` creating a new character `c'` (pronounced c-prime or /sē/yah/prīm/).\n",
    "\n",
    "Here's the catch, the shift for the **next** character will always change, as dictated by the lambda function `func`. The lambda function should receive as argument the **ordinal value of c' (`ord(c')`)** from that recursive call and return you a new `shift` integer value... (Oh yea, do this recursively; you'll thank me later.) But in the iterative sense, `func` supplies you with the **next** `shift` value for the **next proceeding** character.\n",
    "\n",
    "HINT: With a recursive solution, this can be as little as 2 lines of concise code; first defining a base case (string of length 1), and then computing the solution in terms of its own smaller subproblems (the remainder of string).\n",
    "\n",
    "WINK: Use `ord` and `chr` built ins. "
   ]
  },
  {
   "cell_type": "code",
   "execution_count": null,
   "metadata": {
    "deletable": false,
    "nbgrader": {
     "cell_type": "code",
     "checksum": "fdd2e0c256828fa4e52dbe0e787e93f1",
     "grade": false,
     "grade_id": "cell-f250828c3b7fcde5",
     "locked": false,
     "schema_version": 3,
     "solution": true,
     "task": false
    }
   },
   "outputs": [],
   "source": [
    "#Your code here\n",
    "def encrypt(msg, shift, func):\n",
    "    return\n",
    "# YOUR CODE HERE\n",
    "raise NotImplementedError()"
   ]
  },
  {
   "cell_type": "code",
   "execution_count": null,
   "metadata": {},
   "outputs": [],
   "source": [
    "print(\"Are my sample test cases correct?\")\n",
    "print(\"#1\", encrypt(\"hello\",1, lambda x: (x + 1) % 10 ) == \"iktsu\")\n",
    "print(\"#2\", encrypt(\"covfefe\",13, lambda x: x % 13 if x % 2 == 0 else x % 3) == \"pwxiehe\")\n",
    "print(\"#3\", encrypt(\"precious\",12, lambda x: x + 1) == \"|ïŕƹȣʓ̉ͽ\")\n"
   ]
  },
  {
   "cell_type": "code",
   "execution_count": null,
   "metadata": {
    "deletable": false,
    "editable": false,
    "nbgrader": {
     "cell_type": "code",
     "checksum": "6ddba7eb4bde8c7f5cbc4802710bea3b",
     "grade": true,
     "grade_id": "cell-f5569831a2b5ae4f",
     "locked": true,
     "points": 1,
     "schema_version": 3,
     "solution": false,
     "task": false
    }
   },
   "outputs": [],
   "source": []
  },
  {
   "cell_type": "code",
   "execution_count": null,
   "metadata": {
    "deletable": false,
    "editable": false,
    "nbgrader": {
     "cell_type": "code",
     "checksum": "08e23225bd1fb85ca3c96402ceb2a801",
     "grade": true,
     "grade_id": "cell-057993f6a5772739",
     "locked": true,
     "points": 1,
     "schema_version": 3,
     "solution": false,
     "task": false
    }
   },
   "outputs": [],
   "source": []
  },
  {
   "cell_type": "code",
   "execution_count": null,
   "metadata": {
    "deletable": false,
    "editable": false,
    "nbgrader": {
     "cell_type": "code",
     "checksum": "d30890e2948d223c47180a628dba632e",
     "grade": true,
     "grade_id": "cell-f058097f9b6a8fb8",
     "locked": true,
     "points": 1,
     "schema_version": 3,
     "solution": false,
     "task": false
    }
   },
   "outputs": [],
   "source": []
  }
 ],
 "metadata": {
  "kernelspec": {
   "display_name": "Python 3",
   "language": "python",
   "name": "python3"
  },
  "language_info": {
   "codemirror_mode": {
    "name": "ipython",
    "version": 3
   },
   "file_extension": ".py",
   "mimetype": "text/x-python",
   "name": "python",
   "nbconvert_exporter": "python",
   "pygments_lexer": "ipython3",
   "version": "3.8.5"
  }
 },
 "nbformat": 4,
 "nbformat_minor": 1
}
